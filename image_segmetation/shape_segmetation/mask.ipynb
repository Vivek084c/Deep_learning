{
 "cells": [
  {
   "cell_type": "markdown",
   "id": "2501972d",
   "metadata": {},
   "source": [
    "# generating the binary mask for each class"
   ]
  },
  {
   "cell_type": "code",
   "execution_count": 4,
   "id": "9897cf1e",
   "metadata": {},
   "outputs": [],
   "source": [
    "#importing the necessary libraries\n",
    "import os\n",
    "import cv2\n",
    "import matplotlib.pyplot as plt\n",
    "from PIL import Image\n",
    "import json\n",
    "import numpy as np\n",
    "\n"
   ]
  },
  {
   "cell_type": "code",
   "execution_count": null,
   "id": "b04acbe9",
   "metadata": {},
   "outputs": [],
   "source": []
  },
  {
   "cell_type": "code",
   "execution_count": 6,
   "id": "67f39b71",
   "metadata": {},
   "outputs": [
    {
     "name": "stdout",
     "output_type": "stream",
     "text": [
      "the shape of the iamge_list is : 200\n",
      "the shape of the annote_lsit is : 200\n"
     ]
    }
   ],
   "source": [
    "image_list = sorted(os.listdir(\"images\"), key=lambda x: int(x.split('.')[0]))\n",
    "annote_list = sorted(os.listdir(\"annotated\"), key=lambda x: int(x.split('.')[0]))\n",
    "\n",
    "print(f\"the shape of the iamge_list is : {len(image_list)}\")\n",
    "print(f\"the shape of the annote_lsit is : {len(annote_list)}\")"
   ]
  },
  {
   "cell_type": "code",
   "execution_count": null,
   "id": "75b440d7",
   "metadata": {},
   "outputs": [],
   "source": [
    "for image_file, annote_file in zip(image_list, annote_list):\n",
    "    # reading the image file as gray scale\n",
    "    img = cv2.imread(os.path.join(\"images\", image_file), 1)\n",
    "\n",
    "    # reading the annote path\n",
    "    annote_path = os.path.join(\"annotated\", annote_file)\n",
    "    \n"
   ]
  }
 ],
 "metadata": {
  "kernelspec": {
   "display_name": "venv",
   "language": "python",
   "name": "python3"
  },
  "language_info": {
   "codemirror_mode": {
    "name": "ipython",
    "version": 3
   },
   "file_extension": ".py",
   "mimetype": "text/x-python",
   "name": "python",
   "nbconvert_exporter": "python",
   "pygments_lexer": "ipython3",
   "version": "3.12.4"
  }
 },
 "nbformat": 4,
 "nbformat_minor": 5
}
